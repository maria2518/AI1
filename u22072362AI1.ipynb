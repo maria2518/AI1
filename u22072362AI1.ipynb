{
 "cells": [
  {
   "cell_type": "markdown",
   "id": "3cc6c7fd-64f9-4f33-82ee-a43f02af2d73",
   "metadata": {},
   "source": [
    "<h1 style=\"text-align:center\" > Programacion Concurrente y distribuida</h1> <h2 style=\"text-align:center\" > Actividad individual 1</h2><a href=\"https://github.com/maria2518\"><img src=\"https://avatars.githubusercontent.com/u/72942734?v=4\" title = \"Maria Teresa Rodriguez 22072362\" alt=\"Maria Teresa Rodriguez 22072362\" width=\"100\" height=\"100\" style=\"float:left;vertical-align:centre\"><img src=\"logo.png\" title = \"Maria Teresa Rodriguez 22072362\" alt=\"Maria Teresa Rodriguez 22072362\" width=\"100\" height=\"100\" style=\"float:right;vertical-align:centre\">"
   ]
  },
  {
   "cell_type": "markdown",
   "id": "aa355e2d-095d-443c-a625-781ce54472f8",
   "metadata": {},
   "source": [
    "### Servidor"
   ]
  },
  {
   "cell_type": "code",
   "execution_count": null,
   "id": "e057b5c2-6ba4-4969-9341-a5a9324325de",
   "metadata": {},
   "outputs": [],
   "source": [
    "import socket\n",
    "import threading\n",
    "import sys\n",
    "import pickle\n",
    "import os\n",
    "\n",
    "class Servidor():\n",
    "\tdef __init__(self, host=socket.gethostname(), port=59989):\n",
    "\t\tself.clientes = []\n",
    "\t\tself.sock = socket.socket()\n",
    "\t\tself.sock.bind((str(host), int(port)))\n",
    "\t\tself.sock.listen(20)\n",
    "\t\tself.sock.setblocking(False)\n",
    "\n",
    "\t\taceptar = threading.Thread(target=self.aceptarC)\n",
    "\t\tprocesar = threading.Thread(target=self.procesarC)\n",
    "\t\t\n",
    "\t\taceptar.daemon = True\n",
    "\t\taceptar.start()\n",
    "\n",
    "\t\tprocesar.daemon = True\n",
    "\t\tprocesar.start()\n",
    "\n",
    "\t\twhile True:\n",
    "\t\t\tmsg = input('SALIR = Q\\n')\n",
    "\t\t\tif msg == 'Q':\n",
    "\t\t\t\tprint(\"Hasta luego, vuelva pronto\")\n",
    "\t\t\t\tself.sock.close()\n",
    "\t\t\t\tsys.exit()\n",
    "\t\t\telse:\n",
    "\t\t\t\tpass\n",
    "\n",
    "\tdef broadcast(self, msg, cliente):\n",
    "\t\tfor c in self.clientes:\n",
    "\t\t\ttry:\n",
    "\t\t\t\tif c != cliente:\n",
    "\t\t\t\t\tc.send(msg)\n",
    "\t\t\texcept:\n",
    "\t\t\t\tself.clientes.remove(c)\n",
    "\n",
    "\tdef aceptarC(self):\n",
    "\t\twhile True:\n",
    "\t\t\ttry:\n",
    "\t\t\t\tconn, addr = self.sock.accept()\n",
    "\t\t\t\tprint(f\"\\nConexion aceptada via {conn}\\n\")\n",
    "\t\t\t\tconn.setblocking(False)\n",
    "\t\t\t\tself.clientes.append(conn)\n",
    "\t\t\texcept:\n",
    "\t\t\t\tpass\n",
    "\n",
    "\tdef procesarC(self):\n",
    "\t\tprint(\"Procesamiento de mensajes iniciado\")\n",
    "\t\twhile True:\n",
    "\t\t\tif len(self.clientes) > 0:\n",
    "\t\t\t\tfor c in self.clientes:\n",
    "\t\t\t\t\ttry:\n",
    "\t\t\t\t\t\tdata = c.recv(32)\n",
    "\t\t\t\t\t\tif data:\n",
    "\t\t\t\t\t\t\tself.broadcast(data,c)\n",
    "\t\t\t\t\texcept:\n",
    "\t\t\t\t\t\tpass\n",
    "\n",
    "s = Servidor()"
   ]
  },
  {
   "cell_type": "markdown",
   "id": "d22663d5-c3dc-4fd8-8829-5b6ab0174768",
   "metadata": {},
   "source": [
    "### Cliente"
   ]
  },
  {
   "cell_type": "code",
   "execution_count": null,
   "id": "40bb1411-b9c8-4579-97be-5c67eacec518",
   "metadata": {},
   "outputs": [],
   "source": [
    "import threading\n",
    "import sys\n",
    "import socket\n",
    "import pickle\n",
    "import os\n",
    "\n",
    "class Cliente():\n",
    "\n",
    "\tdef __init__(self, host=socket.gethostname(), port=59989):\n",
    "\t\tself.sock = socket.socket()\n",
    "\t\tself.sock.connect((str(host), int(port)))\n",
    "\t\thilo_recv_mensaje = threading.Thread(target=self.recibir)\n",
    "\t\thilo_recv_mensaje.daemon = True\n",
    "\t\thilo_recv_mensaje.start()\n",
    "\t\tprint('Hilo con PID',os.getpid())\n",
    "\t\tprint('Hilos activos', threading.active_count())\n",
    "\n",
    "\t\twhile True:\n",
    "\t\t\tmsg = input('\\nEscriba texto ? ** Enviar = ENTER ** Abandonar Chat = Q \\n')\n",
    "\t\t\tif msg != 'Q' :\n",
    "\t\t\t\tself.enviar(msg)\n",
    "\t\t\telse:\n",
    "\t\t\t\tprint(\"Hasta luego\")\n",
    "\t\t\t\tself.sock.close()\n",
    "\t\t\t\tsys.exit()\n",
    "\n",
    "\tdef recibir(self):\n",
    "\t\twhile True:\n",
    "\t\t\ttry:\n",
    "\t\t\t\tdata = self.sock.recv(32)\n",
    "\t\t\t\tif data:\n",
    "\t\t\t\t\tprint(pickle.loads(data))\n",
    "\t\t\texcept:\n",
    "\t\t\t\tpass\n",
    "\n",
    "\tdef enviar(self, msg):\n",
    "\t\tself.sock.send(pickle.dumps(msg))\n",
    "\n",
    "c = Cliente()"
   ]
  }
 ],
 "metadata": {
  "kernelspec": {
   "display_name": "Python 3",
   "language": "python",
   "name": "python3"
  },
  "language_info": {
   "codemirror_mode": {
    "name": "ipython",
    "version": 3
   },
   "file_extension": ".py",
   "mimetype": "text/x-python",
   "name": "python",
   "nbconvert_exporter": "python",
   "pygments_lexer": "ipython3",
   "version": "3.8.8"
  }
 },
 "nbformat": 4,
 "nbformat_minor": 5
}
